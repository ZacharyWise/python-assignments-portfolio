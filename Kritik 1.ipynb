{
 "cells": [
  {
   "cell_type": "code",
   "execution_count": null,
   "id": "502d7790-fc89-4959-b25f-89b4713146e9",
   "metadata": {},
   "outputs": [],
   "source": []
  },
  {
   "cell_type": "code",
   "execution_count": 1,
   "id": "b5cd2668-46e3-491d-9505-b71382b2c864",
   "metadata": {},
   "outputs": [
    {
     "name": "stdout",
     "output_type": "stream",
     "text": [
      "Error!\n"
     ]
    },
    {
     "ename": "NameError",
     "evalue": "name 'x' is not defined",
     "output_type": "error",
     "traceback": [
      "\u001b[0;31m---------------------------------------------------------------------------\u001b[0m",
      "\u001b[0;31mNameError\u001b[0m                                 Traceback (most recent call last)",
      "Cell \u001b[0;32mIn[1], line 13\u001b[0m\n\u001b[1;32m     11\u001b[0m Error_Bound \u001b[38;5;241m=\u001b[39m \u001b[38;5;241m0.001\u001b[39m\n\u001b[1;32m     12\u001b[0m i \u001b[38;5;241m=\u001b[39m \u001b[38;5;241m0\u001b[39m\n\u001b[0;32m---> 13\u001b[0m A \u001b[38;5;241m=\u001b[39m \u001b[43mx\u001b[49m\n\u001b[1;32m     14\u001b[0m looping \u001b[38;5;241m=\u001b[39m \u001b[38;5;28;01mTrue\u001b[39;00m\n\u001b[1;32m     15\u001b[0m \u001b[38;5;28;01mwhile\u001b[39;00m \u001b[38;5;28mabs\u001b[39m(A) \u001b[38;5;241m>\u001b[39m\u001b[38;5;241m=\u001b[39m \u001b[38;5;241m0.0001\u001b[39m:\n",
      "\u001b[0;31mNameError\u001b[0m: name 'x' is not defined"
     ]
    }
   ],
   "source": [
    "a = [-1, 0, 0.25, 0.5, 0.75, 1]\n",
    "i = 0\n",
    "for i in a:\n",
    "    if i > 1:\n",
    "        print('Error!')\n",
    "    if i < 0:\n",
    "        print('Error!')\n",
    "    if 0 <= i <= 1:\n",
    "        a = 0\n",
    "        n = 0\n",
    "        Error_Bound = 0.001\n",
    "        i = 0\n",
    "        A = x\n",
    "        looping = True\n",
    "        while abs(A) >= 0.0001:\n",
    "            a += A\n",
    "            i += i\n",
    "            n = 2 * 1 + 1\n",
    "            A = ((-1**i)*(x**2*i + 1))/(2*1+1)\n",
    "            Error_Bound = abs(A)\n",
    "        print(a, n, Error_Bound)"
   ]
  },
  {
   "cell_type": "code",
   "execution_count": null,
   "id": "2e57f1a1-ec93-4e71-9523-e2598d5ccaac",
   "metadata": {},
   "outputs": [],
   "source": []
  }
 ],
 "metadata": {
  "kernelspec": {
   "display_name": "Python 3 (ipykernel)",
   "language": "python",
   "name": "python3"
  },
  "language_info": {
   "codemirror_mode": {
    "name": "ipython",
    "version": 3
   },
   "file_extension": ".py",
   "mimetype": "text/x-python",
   "name": "python",
   "nbconvert_exporter": "python",
   "pygments_lexer": "ipython3",
   "version": "3.12.8"
  }
 },
 "nbformat": 4,
 "nbformat_minor": 5
}
