{
 "cells": [
  {
   "cell_type": "code",
   "execution_count": 3,
   "id": "77169cc3-be75-4176-8e2d-e99952ee09d2",
   "metadata": {},
   "outputs": [
    {
     "name": "stdout",
     "output_type": "stream",
     "text": [
      "arctan(x) = Error!\n",
      "arctan(x) = (0.0, 1, 0.0)\n",
      "arctan(x) = (0.24498697916666665, 3, 8.719308035714285e-06)\n",
      "arctan(x) = (0.46368427579365074, 5, 4.438920454545455e-05)\n",
      "arctan(x) = (0.6435394700943785, 11, 5.816761029294689e-05)\n",
      "arctan(x) = (0.7853481633979478, 5000, 9.999000099990002e-05)\n"
     ]
    }
   ],
   "source": [
    "def arctan(x):\n",
    "    # Step 1: Check if x is within the interval (0, 1]\n",
    "    if x < 0 or x > 1:\n",
    "        return \"Error!\"\n",
    "\n",
    "    # Step 2: Initialize variables for approximation, error bound, and loop counter\n",
    "    approx = 0\n",
    "    error = float('inf')\n",
    "    n = 0\n",
    "\n",
    "    # Step 3: Loop until the error bound is less than or equal to 0.0001\n",
    "    while error > 0.0001:\n",
    "        # Calculate the current term in the series\n",
    "        term = ((-1) ** n) * (x ** (2 * n + 1)) / (2 * n + 1)\n",
    "        approx += term\n",
    "\n",
    "        # Update the error bound based on the next term (+3 come from using next term, n+1)\n",
    "        error = (x ** (2 * n + 3)) / (2 * n + 3)\n",
    "\n",
    "        # Increment the counter for the next term\n",
    "        n += 1\n",
    "\n",
    "    # Step 4: Return the approximation, n, and the final error bound\n",
    "    return approx, n, error\n",
    "\n",
    "# Test the funtion with the given inputs\n",
    "test = [-1, 0, 0.25, 0.5, 0.75,1]\n",
    "for x in test:\n",
    "    result = arctan(x)\n",
    "    print(f\"arctan(x) = {result}\")"
   ]
  },
  {
   "cell_type": "code",
   "execution_count": null,
   "id": "d693daad-b297-41e2-bd9f-832116ff1b9f",
   "metadata": {},
   "outputs": [],
   "source": []
  }
 ],
 "metadata": {
  "kernelspec": {
   "display_name": "Python 3 (ipykernel)",
   "language": "python",
   "name": "python3"
  },
  "language_info": {
   "codemirror_mode": {
    "name": "ipython",
    "version": 3
   },
   "file_extension": ".py",
   "mimetype": "text/x-python",
   "name": "python",
   "nbconvert_exporter": "python",
   "pygments_lexer": "ipython3",
   "version": "3.12.8"
  }
 },
 "nbformat": 4,
 "nbformat_minor": 5
}
